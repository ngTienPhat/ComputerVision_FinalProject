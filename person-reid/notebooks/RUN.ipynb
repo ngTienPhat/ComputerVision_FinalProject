{
 "cells": [
  {
   "cell_type": "markdown",
   "metadata": {},
   "source": [
    "# Model: OSNet x10, data_aug: color jitter, loss: softmax, epochs: 200"
   ]
  },
  {
   "cell_type": "code",
   "execution_count": null,
   "metadata": {},
   "outputs": [],
   "source": [
    "!CUDA_VISIBLE_DEVICES=1 python \"scripts/main.py\" \\\n",
    "--config-file \"configs/osnetx10_softmax_256x128_amsgrad_cosine_randflip_coljit.yaml\" \\\n",
    "--root \"datasets\""
   ]
  },
  {
   "cell_type": "markdown",
   "metadata": {},
   "source": [
    "# Model: OSNet x10, data_aug: color jitter, loss: triplet, epochs: 200"
   ]
  },
  {
   "cell_type": "code",
   "execution_count": null,
   "metadata": {},
   "outputs": [],
   "source": [
    "!CUDA_VISIBLE_DEVICES=1 python \"scripts/main.py\" \\\n",
    "--config-file \"configs/osnetx10_softmax_256x128_amsgrad_cosine_randflip_coljit.yaml\" \\\n",
    "--root \"datasets\" \\\n",
    "loss.name \"triplet\" \\\n",
    "loss.triplet.weight_x 1.0 \\"
   ]
  }
 ],
 "metadata": {
  "kernelspec": {
   "display_name": "Python 3",
   "language": "python",
   "name": "python3"
  },
  "language_info": {
   "codemirror_mode": {
    "name": "ipython",
    "version": 3
   },
   "file_extension": ".py",
   "mimetype": "text/x-python",
   "name": "python",
   "nbconvert_exporter": "python",
   "pygments_lexer": "ipython3",
   "version": "3.6.10"
  }
 },
 "nbformat": 4,
 "nbformat_minor": 4
}